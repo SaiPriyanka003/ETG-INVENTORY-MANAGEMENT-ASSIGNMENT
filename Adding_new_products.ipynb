{
  "nbformat": 4,
  "nbformat_minor": 0,
  "metadata": {
    "colab": {
      "name": "Adding new products.ipynb",
      "provenance": []
    },
    "kernelspec": {
      "name": "python3",
      "display_name": "Python 3"
    },
    "language_info": {
      "name": "python"
    }
  },
  "cells": [
    {
      "cell_type": "markdown",
      "metadata": {
        "id": "R-Nw0r7Gax5v"
      },
      "source": [
        "## ***READ DATA FROM JSON***"
      ]
    },
    {
      "cell_type": "code",
      "metadata": {
        "id": "lgIYEWvllBzM"
      },
      "source": [
        "import json\n",
        "\n",
        "fd = open(\"product.json\",'r')\n",
        "r = fd.read()\n",
        "fd.close()\n",
        "\n",
        "product = json.loads(r)  "
      ],
      "execution_count": null,
      "outputs": []
    },
    {
      "cell_type": "code",
      "metadata": {
        "id": "liT4JXNnpYFF"
      },
      "source": [
        "product"
      ],
      "execution_count": null,
      "outputs": []
    },
    {
      "cell_type": "code",
      "metadata": {
        "id": "16QlnqDypYHW"
      },
      "source": [
        "len(product)"
      ],
      "execution_count": null,
      "outputs": []
    },
    {
      "cell_type": "code",
      "metadata": {
        "id": "qs85Mdx2pYKm",
        "colab": {
          "base_uri": "https://localhost:8080/"
        },
        "outputId": "63937a74-0408-43e1-fe62-7f47f0783d04"
      },
      "source": [
        "product.keys()"
      ],
      "execution_count": null,
      "outputs": [
        {
          "output_type": "execute_result",
          "data": {
            "text/plain": [
              "dict_keys(['10001', '10002', '10003', '10004', '10005', '10006', '10007', '10008', '10009', '10010', '10011', '10012', '10013', '10014', '10015', '10016', '10017', '10018', '10019', '10020', '10021', '10022', '10023', '10024', '10025', '10026', '10027', '10028', '10029', '10030', '10031', '10032', '10033', '10034', '10035', '10036', '10037', '10038', '10039', '10040'])"
            ]
          },
          "metadata": {},
          "execution_count": 35
        }
      ]
    },
    {
      "cell_type": "code",
      "metadata": {
        "id": "hIns9GgKpYMB",
        "colab": {
          "base_uri": "https://localhost:8080/"
        },
        "outputId": "386b0b5d-7429-4b57-e566-7e16c82a691d"
      },
      "source": [
        "product.values()"
      ],
      "execution_count": null,
      "outputs": [
        {
          "output_type": "execute_result",
          "data": {
            "text/plain": [
              "dict_values([{'name': 'lays', 'price': 20, 'quantity': 10, 'discount': '5%', 'expirydate': '2-3weeks'}, {'name': 'thumbup', 'price': 80, 'quantity': 19, 'discount': '15%', 'expirydate': '3 months'}, {'name': 'diarymilk', 'price': 100, 'quantity': 12, 'discount': '10%', 'expirydate': '9months'}, {'name': 'coco-cola', 'price': 70, 'quantity': 10, 'discount': '56%', 'expirydate': '6-9 months'}, {'name': 'spirit', 'price': 65, 'quantity': 17, 'discount': '10%', 'expirydate': '6 months'}, {'name': 'pepsi', 'price': 150, 'quantity': 18, 'discount': '5%', 'expirydate': '6-9 months'}, {'name': 'parle-G', 'price': 70, 'quantity': 13, 'discount': '5%', 'expirydate': '6 months'}, {'name': 'motherdiary', 'price': 58, 'quantity': 14, 'discount': '20%', 'expirydate': '6 months'}, {'name': 'kitkat', 'price': 20, 'quantity': 19, 'discount': '15%', 'expirydate': '10 months'}, {'name': 'perk', 'price': 59, 'quantity': 11, 'discount': '10%', 'expirydate': '9 months'}, {'name': 'snickers', 'price': 50, 'quantity': 12, 'discount': '20%', 'expirydate': '12 months'}, {'name': 'cadbury 5star', 'price': 17, 'quantity': 60, 'discount': '15%', 'expirydate': '270 days'}, {'name': 'milkybar', 'price': 45, 'quantity': 40, 'discount': '0%', 'expirydate': '11 months'}, {'name': 'galaxy', 'price': 50, 'quantity': 80, 'discount': '15%', 'expirydate': '4 months'}, {'name': 'kurkure', 'price': 20, 'quantity': 50, 'discount': '0%', 'expirydate': '18-24 months'}, {'name': 'bingo', 'price': 18, 'quantity': 8, 'discount': '20%', 'expirydate': '4 months'}, {'name': 'maggi', 'price': 43, 'quantity': 4, 'discount': '10%', 'expirydate': '9 months'}, {'name': 'Sunfeast moms magic', 'price': 91, 'quantity': 24, 'discount': '24%', 'expirydate': '6 months'}, {'name': 'little hearts', 'price': 20, 'quantity': 18, 'discount': '20%', 'expirydate': '6 months'}, {'name': 'Gems', 'price': 10, 'quantity': 13, 'discount': '0%', 'expirydate': '12 months'}, {'name': \"Kwality Wall's\", 'price': 78, 'quantity': 10, 'discount': '5%', 'expirydate': '365days'}, {'name': 'kissan jam', 'price': 169, 'quantity': 30, 'discount': '21%', 'expirydate': '12 months'}, {'name': 'amul butter', 'price': 92, 'quantity': 40, 'discount': '10%', 'expirydate': '12 months'}, {'name': 'bourn vita', 'price': 264, 'quantity': 80, 'discount': '25%', 'expirydate': '12 months'}, {'name': 'boost', 'price': 302, 'quantity': 45, 'discount': '14%', 'expirydate': '12 months'}, {'name': 'Amul Kaju Katri', 'price': 175, 'quantity': 10, 'discount': '10%', 'expirydate': '3 months'}, {'name': 'MTR Rava Idli', 'price': 143, 'quantity': 75, 'discount': '33%', 'expirydate': '12 months'}, {'name': 'Aashirvaad Atta', 'price': 246, 'quantity': 34, 'discount': '21%', 'expirydate': '3 months'}, {'name': 'Saffola Honey', 'price': 280, 'quantity': 15, 'discount': '41%', 'expirydate': '5 months'}, {'name': 'Telugu Pickle', 'price': 10, 'quantity': 16, 'discount': '0%', 'expirydate': '12months'}, {'name': 'horlicks', 'price': 150, 'quantity': 10, 'discount': '5%', 'expirydate': '2months'}, {'name': 'NeuFarm  California Almonds ', 'price': 900, 'quantity': 5, 'discount': '25%', 'expirydate': '3months'}, {'name': 'Bikano Gulab Jamun', 'price': 210, 'quantity': 10, 'discount': '20', 'expirydate': '2months'}, {'name': 'Yogabar Crunchy Peanut Butter', 'price': 339, 'quantity': 5, 'discount': '48%', 'expirydate': '4months'}, {'name': 'Microwave Popcorn Butter ', 'price': 198, 'quantity': 5, 'discount': '20%', 'expirydate': '2months'}, {'name': 'Pramukh Foods', 'price': 250, 'quantity': 5, 'discount': '4%', 'expirydate': '2weeks'}, {'name': 'DESi Chaat - Spicy Mango', 'price': 250, 'quantity': 5, 'discount': '0%', 'expirydate': '3months'}, {'name': 'Bikano Navratan Mixture', 'price': 289, 'quantity': 5, 'discount': '25%', 'expirydate': '5months'}, {'name': 'Haldirams Bhujia', 'price': 25, 'quantity': 5, 'discount': '5%', 'expirydate': '2months'}, {'name': 'Cheese Bakes Combo', 'price': 40, 'quantity': 5, 'discount': '10%', 'expirydate': '3months'}])"
            ]
          },
          "metadata": {},
          "execution_count": 36
        }
      ]
    },
    {
      "cell_type": "markdown",
      "metadata": {
        "id": "iquq4wFXbdI8"
      },
      "source": [
        "## ***ADDING NEW ITEMS INTO INVENTORY***"
      ]
    },
    {
      "cell_type": "code",
      "metadata": {
        "id": "uJk88BaipYQO",
        "colab": {
          "base_uri": "https://localhost:8080/"
        },
        "outputId": "2f42e14c-9333-4644-fea4-2830980cbf45"
      },
      "source": [
        "prod_id = str(input(\"Enter product id:\"))\n",
        "name = str(input(\"Enter name:\"))\n",
        "price= int(input(\"Enter price:\"))\n",
        "quantity= int(input(\"Enter quantity:\"))\n",
        "discount= (input(\"Enter discount:\"))\n",
        "expirydate=str(input(\"Enter expirydate:\"))\n",
        "\n",
        "product[prod_id] = {'name': name, 'price': price, 'quantity': quantity,'discount':discount,'expirydate':expirydate}\n",
        "\n",
        "js = json.dumps(product)\n",
        "\n",
        "fd = open(\"product.json\",'w')\n",
        "fd.write(js)\n",
        "fd.close()"
      ],
      "execution_count": null,
      "outputs": [
        {
          "name": "stdout",
          "output_type": "stream",
          "text": [
            "Enter product id:10041\n",
            "Enter name:boost\n",
            "Enter price:200\n",
            "Enter quantity:8\n",
            "Enter discount:25%\n",
            "Enter expirydate:2months\n"
          ]
        }
      ]
    },
    {
      "cell_type": "code",
      "metadata": {
        "id": "cbfGSulrpYRq",
        "colab": {
          "base_uri": "https://localhost:8080/"
        },
        "outputId": "6e215209-1aac-4044-f561-b5fbfa06e73a"
      },
      "source": [
        "print(\"new product\")\n",
        "\n",
        "product"
      ],
      "execution_count": null,
      "outputs": [
        {
          "output_type": "stream",
          "name": "stdout",
          "text": [
            "new product\n"
          ]
        },
        {
          "output_type": "execute_result",
          "data": {
            "text/plain": [
              "{'10001': {'discount': '5%',\n",
              "  'expirydate': '2-3weeks',\n",
              "  'name': 'lays',\n",
              "  'price': 20,\n",
              "  'quantity': 10},\n",
              " '10002': {'discount': '15%',\n",
              "  'expirydate': '3 months',\n",
              "  'name': 'thumbup',\n",
              "  'price': 80,\n",
              "  'quantity': 19},\n",
              " '10003': {'discount': '10%',\n",
              "  'expirydate': '9months',\n",
              "  'name': 'diarymilk',\n",
              "  'price': 100,\n",
              "  'quantity': 12},\n",
              " '10004': {'discount': '56%',\n",
              "  'expirydate': '6-9 months',\n",
              "  'name': 'coco-cola',\n",
              "  'price': 70,\n",
              "  'quantity': 10},\n",
              " '10005': {'discount': '10%',\n",
              "  'expirydate': '6 months',\n",
              "  'name': 'spirit',\n",
              "  'price': 65,\n",
              "  'quantity': 17},\n",
              " '10006': {'discount': '5%',\n",
              "  'expirydate': '6-9 months',\n",
              "  'name': 'pepsi',\n",
              "  'price': 150,\n",
              "  'quantity': 18},\n",
              " '10007': {'discount': '5%',\n",
              "  'expirydate': '6 months',\n",
              "  'name': 'parle-G',\n",
              "  'price': 70,\n",
              "  'quantity': 13},\n",
              " '10008': {'discount': '20%',\n",
              "  'expirydate': '6 months',\n",
              "  'name': 'motherdiary',\n",
              "  'price': 58,\n",
              "  'quantity': 14},\n",
              " '10009': {'discount': '15%',\n",
              "  'expirydate': '10 months',\n",
              "  'name': 'kitkat',\n",
              "  'price': 20,\n",
              "  'quantity': 19},\n",
              " '10010': {'discount': '10%',\n",
              "  'expirydate': '9 months',\n",
              "  'name': 'perk',\n",
              "  'price': 59,\n",
              "  'quantity': 11},\n",
              " '10011': {'discount': '20%',\n",
              "  'expirydate': '12 months',\n",
              "  'name': 'snickers',\n",
              "  'price': 50,\n",
              "  'quantity': 12},\n",
              " '10012': {'discount': '15%',\n",
              "  'expirydate': '270 days',\n",
              "  'name': 'cadbury 5star',\n",
              "  'price': 17,\n",
              "  'quantity': 60},\n",
              " '10013': {'discount': '0%',\n",
              "  'expirydate': '11 months',\n",
              "  'name': 'milkybar',\n",
              "  'price': 45,\n",
              "  'quantity': 40},\n",
              " '10014': {'discount': '15%',\n",
              "  'expirydate': '4 months',\n",
              "  'name': 'galaxy',\n",
              "  'price': 50,\n",
              "  'quantity': 80},\n",
              " '10016': {'discount': '20%',\n",
              "  'expirydate': '4 months',\n",
              "  'name': 'bingo',\n",
              "  'price': 18,\n",
              "  'quantity': 8},\n",
              " '10017': {'discount': '10%',\n",
              "  'expirydate': '9 months',\n",
              "  'name': 'maggi',\n",
              "  'price': 43,\n",
              "  'quantity': 4},\n",
              " '10018': {'discount': '24%',\n",
              "  'expirydate': '6 months',\n",
              "  'name': 'Sunfeast moms magic',\n",
              "  'price': 91,\n",
              "  'quantity': 24},\n",
              " '10019': {'discount': '20%',\n",
              "  'expirydate': '6 months',\n",
              "  'name': 'little hearts',\n",
              "  'price': 20,\n",
              "  'quantity': 18},\n",
              " '10020': {'discount': '0%',\n",
              "  'expirydate': '12 months',\n",
              "  'name': 'Gems',\n",
              "  'price': 10,\n",
              "  'quantity': 13},\n",
              " '10021': {'discount': '5%',\n",
              "  'expirydate': '365days',\n",
              "  'name': \"Kwality Wall's\",\n",
              "  'price': 78,\n",
              "  'quantity': 10},\n",
              " '10022': {'discount': '21%',\n",
              "  'expirydate': '12 months',\n",
              "  'name': 'kissan jam',\n",
              "  'price': 169,\n",
              "  'quantity': 30},\n",
              " '10023': {'discount': '10%',\n",
              "  'expirydate': '12 months',\n",
              "  'name': 'amul butter',\n",
              "  'price': 92,\n",
              "  'quantity': 40},\n",
              " '10024': {'discount': '25%',\n",
              "  'expirydate': '12 months',\n",
              "  'name': 'bourn vita',\n",
              "  'price': 264,\n",
              "  'quantity': 80},\n",
              " '10025': {'discount': '14%',\n",
              "  'expirydate': '12 months',\n",
              "  'name': 'boost',\n",
              "  'price': 302,\n",
              "  'quantity': 45},\n",
              " '10026': {'discount': '10%',\n",
              "  'expirydate': '3 months',\n",
              "  'name': 'Amul Kaju Katri',\n",
              "  'price': 175,\n",
              "  'quantity': 10},\n",
              " '10027': {'discount': '33%',\n",
              "  'expirydate': '12 months',\n",
              "  'name': 'MTR Rava Idli',\n",
              "  'price': 143,\n",
              "  'quantity': 75},\n",
              " '10028': {'discount': '21%',\n",
              "  'expirydate': '3 months',\n",
              "  'name': 'Aashirvaad Atta',\n",
              "  'price': 246,\n",
              "  'quantity': 34},\n",
              " '10029': {'discount': '41%',\n",
              "  'expirydate': '5 months',\n",
              "  'name': 'Saffola Honey',\n",
              "  'price': 280,\n",
              "  'quantity': 15},\n",
              " '10030': {'discount': '0%',\n",
              "  'expirydate': '12months',\n",
              "  'name': 'Telugu Pickle',\n",
              "  'price': 10,\n",
              "  'quantity': 16},\n",
              " '10031': {'discount': '5%',\n",
              "  'expirydate': '2months',\n",
              "  'name': 'horlicks',\n",
              "  'price': 150,\n",
              "  'quantity': 10},\n",
              " '10032': {'discount': '25%',\n",
              "  'expirydate': '3months',\n",
              "  'name': 'NeuFarm  California Almonds ',\n",
              "  'price': 900,\n",
              "  'quantity': 5},\n",
              " '10033': {'discount': '20',\n",
              "  'expirydate': '2months',\n",
              "  'name': 'Bikano Gulab Jamun',\n",
              "  'price': 210,\n",
              "  'quantity': 10},\n",
              " '10034': {'discount': '48%',\n",
              "  'expirydate': '4months',\n",
              "  'name': 'Yogabar Crunchy Peanut Butter',\n",
              "  'price': 339,\n",
              "  'quantity': 5},\n",
              " '10035': {'discount': '20%',\n",
              "  'expirydate': '2months',\n",
              "  'name': 'Microwave Popcorn Butter ',\n",
              "  'price': 198,\n",
              "  'quantity': 5},\n",
              " '10036': {'discount': '4%',\n",
              "  'expirydate': '2weeks',\n",
              "  'name': 'Pramukh Foods',\n",
              "  'price': 250,\n",
              "  'quantity': 5},\n",
              " '10037': {'discount': '0%',\n",
              "  'expirydate': '3months',\n",
              "  'name': 'DESi Chaat - Spicy Mango',\n",
              "  'price': 250,\n",
              "  'quantity': 5},\n",
              " '10038': {'discount': '25%',\n",
              "  'expirydate': '5months',\n",
              "  'name': 'Bikano Navratan Mixture',\n",
              "  'price': 289,\n",
              "  'quantity': 5},\n",
              " '10039': {'discount': '5%',\n",
              "  'expirydate': '2months',\n",
              "  'name': 'Haldirams Bhujia',\n",
              "  'price': 25,\n",
              "  'quantity': 5},\n",
              " '10040': {'discount': '10%',\n",
              "  'expirydate': '3months',\n",
              "  'name': 'Cheese Bakes Combo',\n",
              "  'price': 40,\n",
              "  'quantity': 5}}"
            ]
          },
          "metadata": {},
          "execution_count": 54
        }
      ]
    },
    {
      "cell_type": "code",
      "metadata": {
        "id": "SubqdzB3_Ue5"
      },
      "source": [
        "product=json.loads(r)"
      ],
      "execution_count": null,
      "outputs": []
    },
    {
      "cell_type": "markdown",
      "metadata": {
        "id": "7F1Gye1ijNaJ"
      },
      "source": [
        "*** after adding items length and keys ***"
      ]
    },
    {
      "cell_type": "code",
      "metadata": {
        "id": "sA8NGn_1pYWE",
        "colab": {
          "base_uri": "https://localhost:8080/"
        },
        "outputId": "78e0ef2f-6ebe-4a85-c9d2-b7003efd8473"
      },
      "source": [
        "len(product)"
      ],
      "execution_count": null,
      "outputs": [
        {
          "output_type": "execute_result",
          "data": {
            "text/plain": [
              "40"
            ]
          },
          "metadata": {},
          "execution_count": 43
        }
      ]
    },
    {
      "cell_type": "code",
      "metadata": {
        "id": "P07m8dtRwXAT",
        "colab": {
          "base_uri": "https://localhost:8080/"
        },
        "outputId": "b6ea0daa-92b7-4f7a-dbb6-8f55c30c7b2e"
      },
      "source": [
        "product.keys()"
      ],
      "execution_count": null,
      "outputs": [
        {
          "output_type": "execute_result",
          "data": {
            "text/plain": [
              "dict_keys(['10001', '10002', '10003', '10004', '10005', '10006', '10007', '10008', '10009', '10010', '10011', '10012', '10013', '10014', '10015', '10016', '10017', '10018', '10019', '10020', '10021', '10022', '10023', '10024', '10025', '10026', '10027', '10028', '10029', '10030', '10031', '10032', '10033', '10034', '10035', '10036', '10037', '10038', '10039', '10040'])"
            ]
          },
          "metadata": {},
          "execution_count": 44
        }
      ]
    },
    {
      "cell_type": "markdown",
      "metadata": {
        "id": "aKFh494nqxca"
      },
      "source": [
        "## ***DELETING ITEM FROM INVENTORY***"
      ]
    },
    {
      "cell_type": "code",
      "metadata": {
        "id": "4p1JYyD1lpTa"
      },
      "source": [
        "del product['10015']"
      ],
      "execution_count": null,
      "outputs": []
    },
    {
      "cell_type": "code",
      "metadata": {
        "id": "LlcZwdZs4Mld",
        "colab": {
          "base_uri": "https://localhost:8080/"
        },
        "outputId": "c0a99529-0746-4bee-8636-ca4d1499b6cc"
      },
      "source": [
        "product"
      ],
      "execution_count": null,
      "outputs": [
        {
          "output_type": "execute_result",
          "data": {
            "text/plain": [
              "{'10001': {'discount': '5%',\n",
              "  'expirydate': '2-3weeks',\n",
              "  'name': 'lays',\n",
              "  'price': 20,\n",
              "  'quantity': 10},\n",
              " '10002': {'discount': '15%',\n",
              "  'expirydate': '3 months',\n",
              "  'name': 'thumbup',\n",
              "  'price': 80,\n",
              "  'quantity': 19},\n",
              " '10003': {'discount': '10%',\n",
              "  'expirydate': '9months',\n",
              "  'name': 'diarymilk',\n",
              "  'price': 100,\n",
              "  'quantity': 12},\n",
              " '10004': {'discount': '56%',\n",
              "  'expirydate': '6-9 months',\n",
              "  'name': 'coco-cola',\n",
              "  'price': 70,\n",
              "  'quantity': 10},\n",
              " '10005': {'discount': '10%',\n",
              "  'expirydate': '6 months',\n",
              "  'name': 'spirit',\n",
              "  'price': 65,\n",
              "  'quantity': 17},\n",
              " '10006': {'discount': '5%',\n",
              "  'expirydate': '6-9 months',\n",
              "  'name': 'pepsi',\n",
              "  'price': 150,\n",
              "  'quantity': 18},\n",
              " '10007': {'discount': '5%',\n",
              "  'expirydate': '6 months',\n",
              "  'name': 'parle-G',\n",
              "  'price': 70,\n",
              "  'quantity': 13},\n",
              " '10008': {'discount': '20%',\n",
              "  'expirydate': '6 months',\n",
              "  'name': 'motherdiary',\n",
              "  'price': 58,\n",
              "  'quantity': 14},\n",
              " '10009': {'discount': '15%',\n",
              "  'expirydate': '10 months',\n",
              "  'name': 'kitkat',\n",
              "  'price': 20,\n",
              "  'quantity': 19},\n",
              " '10010': {'discount': '10%',\n",
              "  'expirydate': '9 months',\n",
              "  'name': 'perk',\n",
              "  'price': 59,\n",
              "  'quantity': 11},\n",
              " '10011': {'discount': '20%',\n",
              "  'expirydate': '12 months',\n",
              "  'name': 'snickers',\n",
              "  'price': 50,\n",
              "  'quantity': 12},\n",
              " '10012': {'discount': '15%',\n",
              "  'expirydate': '270 days',\n",
              "  'name': 'cadbury 5star',\n",
              "  'price': 17,\n",
              "  'quantity': 60},\n",
              " '10013': {'discount': '0%',\n",
              "  'expirydate': '11 months',\n",
              "  'name': 'milkybar',\n",
              "  'price': 45,\n",
              "  'quantity': 40},\n",
              " '10014': {'discount': '15%',\n",
              "  'expirydate': '4 months',\n",
              "  'name': 'galaxy',\n",
              "  'price': 50,\n",
              "  'quantity': 80},\n",
              " '10016': {'discount': '20%',\n",
              "  'expirydate': '4 months',\n",
              "  'name': 'bingo',\n",
              "  'price': 18,\n",
              "  'quantity': 8},\n",
              " '10017': {'discount': '10%',\n",
              "  'expirydate': '9 months',\n",
              "  'name': 'maggi',\n",
              "  'price': 43,\n",
              "  'quantity': 4},\n",
              " '10018': {'discount': '24%',\n",
              "  'expirydate': '6 months',\n",
              "  'name': 'Sunfeast moms magic',\n",
              "  'price': 91,\n",
              "  'quantity': 24},\n",
              " '10019': {'discount': '20%',\n",
              "  'expirydate': '6 months',\n",
              "  'name': 'little hearts',\n",
              "  'price': 20,\n",
              "  'quantity': 18},\n",
              " '10020': {'discount': '0%',\n",
              "  'expirydate': '12 months',\n",
              "  'name': 'Gems',\n",
              "  'price': 10,\n",
              "  'quantity': 13},\n",
              " '10021': {'discount': '5%',\n",
              "  'expirydate': '365days',\n",
              "  'name': \"Kwality Wall's\",\n",
              "  'price': 78,\n",
              "  'quantity': 10},\n",
              " '10022': {'discount': '21%',\n",
              "  'expirydate': '12 months',\n",
              "  'name': 'kissan jam',\n",
              "  'price': 169,\n",
              "  'quantity': 30},\n",
              " '10023': {'discount': '10%',\n",
              "  'expirydate': '12 months',\n",
              "  'name': 'amul butter',\n",
              "  'price': 92,\n",
              "  'quantity': 40},\n",
              " '10024': {'discount': '25%',\n",
              "  'expirydate': '12 months',\n",
              "  'name': 'bourn vita',\n",
              "  'price': 264,\n",
              "  'quantity': 80},\n",
              " '10025': {'discount': '14%',\n",
              "  'expirydate': '12 months',\n",
              "  'name': 'boost',\n",
              "  'price': 302,\n",
              "  'quantity': 45},\n",
              " '10026': {'discount': '10%',\n",
              "  'expirydate': '3 months',\n",
              "  'name': 'Amul Kaju Katri',\n",
              "  'price': 175,\n",
              "  'quantity': 10},\n",
              " '10027': {'discount': '33%',\n",
              "  'expirydate': '12 months',\n",
              "  'name': 'MTR Rava Idli',\n",
              "  'price': 143,\n",
              "  'quantity': 75},\n",
              " '10028': {'discount': '21%',\n",
              "  'expirydate': '3 months',\n",
              "  'name': 'Aashirvaad Atta',\n",
              "  'price': 246,\n",
              "  'quantity': 34},\n",
              " '10029': {'discount': '41%',\n",
              "  'expirydate': '5 months',\n",
              "  'name': 'Saffola Honey',\n",
              "  'price': 280,\n",
              "  'quantity': 15},\n",
              " '10030': {'discount': '0%',\n",
              "  'expirydate': '12months',\n",
              "  'name': 'Telugu Pickle',\n",
              "  'price': 10,\n",
              "  'quantity': 16},\n",
              " '10031': {'discount': '5%',\n",
              "  'expirydate': '2months',\n",
              "  'name': 'horlicks',\n",
              "  'price': 150,\n",
              "  'quantity': 10},\n",
              " '10032': {'discount': '25%',\n",
              "  'expirydate': '3months',\n",
              "  'name': 'NeuFarm  California Almonds ',\n",
              "  'price': 900,\n",
              "  'quantity': 5},\n",
              " '10033': {'discount': '20',\n",
              "  'expirydate': '2months',\n",
              "  'name': 'Bikano Gulab Jamun',\n",
              "  'price': 210,\n",
              "  'quantity': 10},\n",
              " '10034': {'discount': '48%',\n",
              "  'expirydate': '4months',\n",
              "  'name': 'Yogabar Crunchy Peanut Butter',\n",
              "  'price': 339,\n",
              "  'quantity': 5},\n",
              " '10035': {'discount': '20%',\n",
              "  'expirydate': '2months',\n",
              "  'name': 'Microwave Popcorn Butter ',\n",
              "  'price': 198,\n",
              "  'quantity': 5},\n",
              " '10036': {'discount': '4%',\n",
              "  'expirydate': '2weeks',\n",
              "  'name': 'Pramukh Foods',\n",
              "  'price': 250,\n",
              "  'quantity': 5},\n",
              " '10037': {'discount': '0%',\n",
              "  'expirydate': '3months',\n",
              "  'name': 'DESi Chaat - Spicy Mango',\n",
              "  'price': 250,\n",
              "  'quantity': 5},\n",
              " '10038': {'discount': '25%',\n",
              "  'expirydate': '5months',\n",
              "  'name': 'Bikano Navratan Mixture',\n",
              "  'price': 289,\n",
              "  'quantity': 5},\n",
              " '10039': {'discount': '5%',\n",
              "  'expirydate': '2months',\n",
              "  'name': 'Haldirams Bhujia',\n",
              "  'price': 25,\n",
              "  'quantity': 5},\n",
              " '10040': {'discount': '10%',\n",
              "  'expirydate': '3months',\n",
              "  'name': 'Cheese Bakes Combo',\n",
              "  'price': 40,\n",
              "  'quantity': 5}}"
            ]
          },
          "metadata": {},
          "execution_count": 46
        }
      ]
    },
    {
      "cell_type": "markdown",
      "metadata": {
        "id": "9IwFse7slM4c"
      },
      "source": [
        "***after deleting items length and its keys***"
      ]
    },
    {
      "cell_type": "code",
      "metadata": {
        "id": "Mw_K-20Xiei4",
        "colab": {
          "base_uri": "https://localhost:8080/"
        },
        "outputId": "7a4e68f4-9616-4a33-f51c-dcdbe3d11f29"
      },
      "source": [
        "len(product)"
      ],
      "execution_count": null,
      "outputs": [
        {
          "output_type": "execute_result",
          "data": {
            "text/plain": [
              "39"
            ]
          },
          "metadata": {},
          "execution_count": 47
        }
      ]
    },
    {
      "cell_type": "code",
      "metadata": {
        "id": "vth2ZlTbm8gr",
        "colab": {
          "base_uri": "https://localhost:8080/"
        },
        "outputId": "1d5698b3-2dcf-439e-c1aa-ce29e844255d"
      },
      "source": [
        "product.keys()"
      ],
      "execution_count": null,
      "outputs": [
        {
          "output_type": "execute_result",
          "data": {
            "text/plain": [
              "dict_keys(['10001', '10002', '10003', '10004', '10005', '10006', '10007', '10008', '10009', '10010', '10011', '10012', '10013', '10014', '10016', '10017', '10018', '10019', '10020', '10021', '10022', '10023', '10024', '10025', '10026', '10027', '10028', '10029', '10030', '10031', '10032', '10033', '10034', '10035', '10036', '10037', '10038', '10039', '10040'])"
            ]
          },
          "metadata": {},
          "execution_count": 48
        }
      ]
    }
  ]
}