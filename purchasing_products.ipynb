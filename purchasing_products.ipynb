{
  "nbformat": 4,
  "nbformat_minor": 0,
  "metadata": {
    "colab": {
      "name": "purchasing_products.ipynb",
      "provenance": []
    },
    "kernelspec": {
      "name": "python3",
      "display_name": "Python 3"
    },
    "language_info": {
      "name": "python"
    }
  },
  "cells": [
    {
      "cell_type": "markdown",
      "metadata": {
        "id": "7C9Cd1R9nWbe"
      },
      "source": [
        "## ***Read Inventory***"
      ]
    },
    {
      "cell_type": "code",
      "metadata": {
        "id": "1r9K31O-nVYC"
      },
      "source": [
        "import json\n",
        "\n",
        "fd = open(\"product.json\",'r')\n",
        "r = fd.read()\n",
        "fd.close()\n",
        "\n",
        "product = json.loads(r)"
      ],
      "execution_count": 2,
      "outputs": []
    },
    {
      "cell_type": "code",
      "metadata": {
        "id": "mE4m5VwWRL7M",
        "colab": {
          "base_uri": "https://localhost:8080/"
        },
        "outputId": "f7597663-1de0-4a6d-cf0a-7ad8cf5032d0"
      },
      "source": [
        "product"
      ],
      "execution_count": 3,
      "outputs": [
        {
          "output_type": "execute_result",
          "data": {
            "text/plain": [
              "{'10001': {'discount': '5%',\n",
              "  'expirydate': '2-3weeks',\n",
              "  'name': 'lays',\n",
              "  'price': 20,\n",
              "  'quantity': 10},\n",
              " '10002': {'discount': '15%',\n",
              "  'expirydate': '3 months',\n",
              "  'name': 'thumbup',\n",
              "  'price': 80,\n",
              "  'quantity': 19},\n",
              " '10003': {'discount': '10%',\n",
              "  'expirydate': '9months',\n",
              "  'name': 'diarymilk',\n",
              "  'price': 100,\n",
              "  'quantity': 12},\n",
              " '10004': {'discount': '56%',\n",
              "  'expirydate': '6-9 months',\n",
              "  'name': 'coco-cola',\n",
              "  'price': 70,\n",
              "  'quantity': 10},\n",
              " '10005': {'discount': '10%',\n",
              "  'expirydate': '6 months',\n",
              "  'name': 'spirit',\n",
              "  'price': 65,\n",
              "  'quantity': 17},\n",
              " '10006': {'discount': '5%',\n",
              "  'expirydate': '6-9 months',\n",
              "  'name': 'pepsi',\n",
              "  'price': 150,\n",
              "  'quantity': 18},\n",
              " '10007': {'discount': '5%',\n",
              "  'expirydate': '6 months',\n",
              "  'name': 'parle-G',\n",
              "  'price': 70,\n",
              "  'quantity': 13},\n",
              " '10008': {'discount': '20%',\n",
              "  'expirydate': '6 months',\n",
              "  'name': 'motherdiary',\n",
              "  'price': 58,\n",
              "  'quantity': 14},\n",
              " '10009': {'discount': '15%',\n",
              "  'expirydate': '10 months',\n",
              "  'name': 'kitkat',\n",
              "  'price': 20,\n",
              "  'quantity': 19},\n",
              " '10010': {'discount': '10%',\n",
              "  'expirydate': '9 months',\n",
              "  'name': 'perk',\n",
              "  'price': 59,\n",
              "  'quantity': 11},\n",
              " '10011': {'discount': '20%',\n",
              "  'expirydate': '12 months',\n",
              "  'name': 'snickers',\n",
              "  'price': 50,\n",
              "  'quantity': 12},\n",
              " '10012': {'discount': '15%',\n",
              "  'expirydate': '270 days',\n",
              "  'name': 'cadbury 5star',\n",
              "  'price': 17,\n",
              "  'quantity': 60},\n",
              " '10013': {'discount': '0%',\n",
              "  'expirydate': '11 months',\n",
              "  'name': 'milkybar',\n",
              "  'price': 45,\n",
              "  'quantity': 40},\n",
              " '10014': {'discount': '15%',\n",
              "  'expirydate': '4 months',\n",
              "  'name': 'galaxy',\n",
              "  'price': 50,\n",
              "  'quantity': 80},\n",
              " '10015': {'discount': '0%',\n",
              "  'expirydate': '18-24 months',\n",
              "  'name': 'kurkure',\n",
              "  'price': 20,\n",
              "  'quantity': 50},\n",
              " '10016': {'discount': '20%',\n",
              "  'expirydate': '4 months',\n",
              "  'name': 'bingo',\n",
              "  'price': 18,\n",
              "  'quantity': 8},\n",
              " '10017': {'discount': '10%',\n",
              "  'expirydate': '9 months',\n",
              "  'name': 'maggi',\n",
              "  'price': 43,\n",
              "  'quantity': 4},\n",
              " '10018': {'discount': '24%',\n",
              "  'expirydate': '6 months',\n",
              "  'name': 'Sunfeast moms magic',\n",
              "  'price': 91,\n",
              "  'quantity': 24},\n",
              " '10019': {'discount': '20%',\n",
              "  'expirydate': '6 months',\n",
              "  'name': 'little hearts',\n",
              "  'price': 20,\n",
              "  'quantity': 18},\n",
              " '10020': {'discount': '0%',\n",
              "  'expirydate': '12 months',\n",
              "  'name': 'Gems',\n",
              "  'price': 10,\n",
              "  'quantity': 13},\n",
              " '10021': {'discount': '5%',\n",
              "  'expirydate': '365days',\n",
              "  'name': \"Kwality Wall's\",\n",
              "  'price': 78,\n",
              "  'quantity': 10},\n",
              " '10022': {'discount': '21%',\n",
              "  'expirydate': '12 months',\n",
              "  'name': 'kissan jam',\n",
              "  'price': 169,\n",
              "  'quantity': 30},\n",
              " '10023': {'discount': '10%',\n",
              "  'expirydate': '12 months',\n",
              "  'name': 'amul butter',\n",
              "  'price': 92,\n",
              "  'quantity': 40},\n",
              " '10024': {'discount': '25%',\n",
              "  'expirydate': '12 months',\n",
              "  'name': 'bourn vita',\n",
              "  'price': 264,\n",
              "  'quantity': 80},\n",
              " '10025': {'discount': '14%',\n",
              "  'expirydate': '12 months',\n",
              "  'name': 'boost',\n",
              "  'price': 302,\n",
              "  'quantity': 45},\n",
              " '10026': {'discount': '10%',\n",
              "  'expirydate': '3 months',\n",
              "  'name': 'Amul Kaju Katri',\n",
              "  'price': 175,\n",
              "  'quantity': 10},\n",
              " '10027': {'discount': '33%',\n",
              "  'expirydate': '12 months',\n",
              "  'name': 'MTR Rava Idli',\n",
              "  'price': 143,\n",
              "  'quantity': 75},\n",
              " '10028': {'discount': '21%',\n",
              "  'expirydate': '3 months',\n",
              "  'name': 'Aashirvaad Atta',\n",
              "  'price': 246,\n",
              "  'quantity': 34},\n",
              " '10029': {'discount': '41%',\n",
              "  'expirydate': '5 months',\n",
              "  'name': 'Saffola Honey',\n",
              "  'price': 280,\n",
              "  'quantity': 15},\n",
              " '10030': {'discount': '0%',\n",
              "  'expirydate': '12months',\n",
              "  'name': 'Telugu Pickle',\n",
              "  'price': 10,\n",
              "  'quantity': 16}}"
            ]
          },
          "metadata": {},
          "execution_count": 3
        }
      ]
    },
    {
      "cell_type": "markdown",
      "metadata": {
        "id": "qelzOJbJVGVA"
      },
      "source": [
        "## **purchase**"
      ]
    },
    {
      "cell_type": "code",
      "metadata": {
        "id": "1OAPZn_8RL9a",
        "colab": {
          "base_uri": "https://localhost:8080/"
        },
        "outputId": "8b11fe23-374c-4eef-db54-7272f21fc599"
      },
      "source": [
        "ui_prod  = str(input(\"Enter the product_Id: \"))\n",
        "ui_quant = int(input(\"Enter the quantity: \"))\n",
        "\n",
        "\n",
        "print(\"******************************\")\n",
        "print(\"------------------------------\")\n",
        "print(\"Product ID: \", ui_prod)\n",
        "print(\"Product: \", product[ui_prod]['name'])\n",
        "print(\"Price: \", product[ui_prod]['price'])\n",
        "print(\"discount:\",product[ui_prod]['discount'])\n",
        "print(\"Billing Amount: \", product[ui_prod]['price'] * ui_quant)\n",
        "\n",
        "bill = int(input(\"Enter bill amount:\"))\n",
        "discount = int(input(\"Enter discount percentage:\"))\n",
        "output = bill - (bill * discount / 100)\n",
        "print(\"After discount your bill is: \", output)\n",
        "print(\"******************************\")\n",
        "print(\"------------------------------\")\n",
        "product[ui_prod]['quantity'] = product[ui_prod]['quantity'] - ui_quant"
      ],
      "execution_count": 4,
      "outputs": [
        {
          "output_type": "stream",
          "name": "stdout",
          "text": [
            "Enter the product_Id: 10030\n",
            "Enter the quantity: 1\n",
            "******************************\n",
            "------------------------------\n",
            "Product ID:  10030\n",
            "Product:  Telugu Pickle\n",
            "Price:  10\n",
            "discount: 0%\n",
            "Billing Amount:  10\n",
            "Enter bill amount:10\n",
            "Enter discount percentage:0\n",
            "After discount your bill is:  10.0\n",
            "******************************\n",
            "------------------------------\n"
          ]
        }
      ]
    },
    {
      "cell_type": "markdown",
      "metadata": {
        "id": "cbHfMyAmfKxM"
      },
      "source": [
        "## ***Update Inventory after purchase***"
      ]
    },
    {
      "cell_type": "code",
      "metadata": {
        "colab": {
          "base_uri": "https://localhost:8080/"
        },
        "id": "0X7J55i9RMAu",
        "outputId": "cf4e1bc8-4cbd-4e7b-b920-4acf28bbf3c6"
      },
      "source": [
        "print(product[ui_prod]['quantity'])"
      ],
      "execution_count": 5,
      "outputs": [
        {
          "output_type": "stream",
          "name": "stdout",
          "text": [
            "15\n"
          ]
        }
      ]
    },
    {
      "cell_type": "code",
      "metadata": {
        "id": "GBcnaQPiRMGL"
      },
      "source": [
        "js = json.dumps(product)\n",
        "\n",
        "fd = open(\"product.json\",'w')\n",
        "fd.write(js)\n",
        "fd.close()\n"
      ],
      "execution_count": 6,
      "outputs": []
    },
    {
      "cell_type": "markdown",
      "metadata": {
        "id": "NFZZlGxYiv41"
      },
      "source": [
        "### ***sales json***"
      ]
    },
    {
      "cell_type": "code",
      "metadata": {
        "colab": {
          "base_uri": "https://localhost:8080/"
        },
        "id": "L-xd40y6RMNT",
        "outputId": "4db6be75-d3e6-4c73-cd66-790e7ebb0339"
      },
      "source": [
        "{'prod':ui_prod,'discount':discount,'qn':ui_quant,'amount': product[ui_prod]['price'] * ui_quant}\n"
      ],
      "execution_count": 28,
      "outputs": [
        {
          "output_type": "execute_result",
          "data": {
            "text/plain": [
              "{'amount': 10, 'discount': 0, 'prod': '10030', 'qn': 1}"
            ]
          },
          "metadata": {},
          "execution_count": 28
        }
      ]
    },
    {
      "cell_type": "code",
      "metadata": {
        "id": "OHXvKkFJRMRp"
      },
      "source": [
        "sales={1:{'prod':ui_prod,'qn':ui_quant,'amount':product[ui_prod]['price'] * ui_quant},\n",
        "       2:{'prod':ui_prod,'qn':ui_quant,'amount':product[ui_prod]['price'] * ui_quant},\n",
        "       3:{'prod':ui_prod,'qn':ui_quant,'amount':product[ui_prod]['price'] * ui_quant},\n",
        "       4:{'prod':ui_prod,'qn':ui_quant,'amount':product[ui_prod]['price'] * ui_quant},\n",
        "       5:{'prod':ui_prod,'qn':ui_quant,'amount':product[ui_prod]['price'] * ui_quant}\n",
        "       }"
      ],
      "execution_count": 29,
      "outputs": []
    },
    {
      "cell_type": "code",
      "metadata": {
        "colab": {
          "base_uri": "https://localhost:8080/",
          "height": 52
        },
        "id": "i2qo8X8JzhPC",
        "outputId": "b66098f5-4a6f-4274-8a2c-9c4f4ab9e0ac"
      },
      "source": [
        "json.dumps(sales)"
      ],
      "execution_count": 30,
      "outputs": [
        {
          "output_type": "execute_result",
          "data": {
            "application/vnd.google.colaboratory.intrinsic+json": {
              "type": "string"
            },
            "text/plain": [
              "'{\"1\": {\"prod\": \"10030\", \"qn\": 1, \"amount\": 10}, \"2\": {\"prod\": \"10030\", \"qn\": 1, \"amount\": 10}, \"3\": {\"prod\": \"10030\", \"qn\": 1, \"amount\": 10}, \"4\": {\"prod\": \"10030\", \"qn\": 1, \"amount\": 10}, \"5\": {\"prod\": \"10030\", \"qn\": 1, \"amount\": 10}}'"
            ]
          },
          "metadata": {},
          "execution_count": 30
        }
      ]
    },
    {
      "cell_type": "code",
      "metadata": {
        "id": "6XSrFM_N0CzS"
      },
      "source": [
        "fd=open(\"sales.json\",'r')\n",
        "\n",
        "r=fd.read()\n",
        "\n",
        "fd.close()"
      ],
      "execution_count": 31,
      "outputs": []
    },
    {
      "cell_type": "code",
      "metadata": {
        "colab": {
          "base_uri": "https://localhost:8080/"
        },
        "id": "iA1fUhbuVJFK",
        "outputId": "a1d41c58-e553-463e-f212-78ebff3e84b7"
      },
      "source": [
        "{(len(sales)+1):{'prod': ui_prod,'qn': ui_quant,'amount': product[ui_prod]['price'] * ui_quant}}"
      ],
      "execution_count": 32,
      "outputs": [
        {
          "output_type": "execute_result",
          "data": {
            "text/plain": [
              "{6: {'amount': 10, 'prod': '10030', 'qn': 1}}"
            ]
          },
          "metadata": {},
          "execution_count": 32
        }
      ]
    },
    {
      "cell_type": "code",
      "metadata": {
        "id": "17lfA340VJG2"
      },
      "source": [
        "sales[(len(sales)+1)]:{'prod': ui_prod,'qn': ui_quant,'amount': product[ui_prod]['price'] * ui_quant}"
      ],
      "execution_count": 33,
      "outputs": []
    },
    {
      "cell_type": "code",
      "metadata": {
        "id": "r4LB-Q5xRMT7"
      },
      "source": [
        "sales"
      ],
      "execution_count": null,
      "outputs": []
    },
    {
      "cell_type": "code",
      "metadata": {
        "id": "N73PAnZhbIOx"
      },
      "source": [
        "fd=open(\"sales.json\",'w')\n",
        "\n",
        "fd.write(js)\n",
        "\n",
        "fd.close()"
      ],
      "execution_count": 12,
      "outputs": []
    },
    {
      "cell_type": "code",
      "metadata": {
        "id": "HvCITgoKUrUT"
      },
      "source": [
        "sales=json.dumps(sales)"
      ],
      "execution_count": 11,
      "outputs": []
    }
  ]
}