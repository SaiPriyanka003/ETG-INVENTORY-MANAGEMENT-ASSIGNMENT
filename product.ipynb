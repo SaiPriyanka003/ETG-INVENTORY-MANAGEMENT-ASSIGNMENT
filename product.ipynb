{
  "nbformat": 4,
  "nbformat_minor": 0,
  "metadata": {
    "colab": {
      "name": "product.ipynb",
      "provenance": [],
      "collapsed_sections": []
    },
    "kernelspec": {
      "name": "python3",
      "display_name": "Python 3"
    },
    "language_info": {
      "name": "python"
    }
  },
  "cells": [
    {
      "cell_type": "markdown",
      "metadata": {
        "id": "aCUL9N9ZbvVk"
      },
      "source": [
        "***productdetails*** \n",
        "\n",
        "\n"
      ]
    },
    {
      "cell_type": "code",
      "metadata": {
        "id": "zi2sSgnwJYgA"
      },
      "source": [
        "products_list = { 10001 : {\"name\":\"lays\",\"price\":20,\"quantity\":10,\"discount\":\"5%\" ,\"expirydate\":\"2-3weeks\" },\n",
        "                  10002 : {\"name\":\"thumbup\",\"price\":80,\"quantity\":19,\"discount\":\"15%\",\"expirydate\":\"3 months\" } ,\n",
        "                  10003 : {\"name\":\"diarymilk\",\"price\":100,\"quantity\":12,\"discount\":\"10%\",\"expirydate\":\"9months\"},\n",
        "                  10004 : {\"name\":\"coco-cola\",\"price\":70,\"quantity\":10,\"discount\":\"56%\",\"expirydate\":\"6-9 months\"},\n",
        "                  10005 : {\"name\":\"spirit\", \"price\":65,\"quantity\":17,\"discount\":\"10%\" ,\"expirydate\":\"6 months\"},\n",
        "                  10006 : {\"name\":\"pepsi\", \"price\":150,\"quantity\":18,\"discount\":\"5%\",\"expirydate\":\"6-9 months\"},\n",
        "                  10007 : {\"name\":\"parle-G\",\"price\":70,\"quantity\":13,\"discount\":\"5%\" ,\"expirydate\":\"6 months\"},\n",
        "                  10008 : {\"name\":\"motherdiary\",\"price\":58,\"quantity\":14,\"discount\":\"20%\" ,\"expirydate\":\"6 months\"},\n",
        "                  10009 : {\"name\":\"kitkat\",\"price\":20,\"quantity\":19,\"discount\":\"15%\" ,\"expirydate\":\"10 months\"},\n",
        "                  10010 : {\"name\":\"perk\",\"price\":59,\"quantity\":11,\"discount\":\"10%\" ,\"expirydate\":\"9 months\"},\n",
        "                  10011 : {\"name\":\"snickers\",\"price\":50,\"quantity\":12,\"discount\":\"20%\" ,\"expirydate\":\"12 months\"},\n",
        "                  10012 : {\"name\":\"cadbury 5star\",\"price\":17,\"quantity\":60,\"discount\":\"15%\",\"expirydate\":\"270 days\"},\n",
        "                  10013 : {\"name\":\"milkybar\",\"price\":45,\"quantity\":40,\"discount\":\"0%\" ,\"expirydate\":\"11 months\"},\n",
        "                  10014 : {\"name\":\"galaxy\",\"price\":50,\"quantity\":80,\"discount\":\"15%\" ,\"expirydate\":\"4 months\"},\n",
        "                  10015 : {\"name\":\"kurkure\",\"price\":20,\"quantity\":50,\"discount\":\"0%\" ,\"expirydate\":\"18-24 months\"},\n",
        "                  10016 : {\"name\":\"bingo\",\"price\":18,\"quantity\":8,\"discount\":\"20%\" ,\"expirydate\":\"4 months\"},\n",
        "                  10017 : {\"name\":\"maggi\",\"price\":43,\"quantity\":4,\"discount\":\"10%\" ,\"expirydate\":\"9 months\"},\n",
        "                  10018 : {\"name\":\"Sunfeast moms magic\",\"price\":91,\"quantity\":24,\"discount\":\"24%\" ,\"expirydate\":\"6 months\"},\n",
        "                  10019 : {\"name\":\"little hearts\",\"price\":20,\"quantity\":18,\"discount\":\"20%\" ,\"expirydate\":\"6 months\"},\n",
        "                  10020 : {\"name\":\"Gems\",\"price\":10,\"quantity\":13,\"discount\":\"0%\" ,\"expirydate\":\"12 months\"},\n",
        "                  10021 : {\"name\":\"Kwality Wall's\",\"price\":78,\"quantity\":10,\"discount\":\"5%\" ,\"expirydate\":\"365days\"},\n",
        "                  10022 : {\"name\":\"kissan jam\",\"price\":169,\"quantity\":30,\"discount\":\"21%\" ,\"expirydate\":\"12 months\"},\n",
        "                  10023 : {\"name\":\"amul butter\",\"price\":92,\"quantity\":40,\"discount\":\"10%\",\"expirydate\":\"12 months\"},\n",
        "                  10024 : {\"name\":\"bourn vita\",\"price\":264,\"quantity\":80,\"discount\":\"25%\" ,\"expirydate\":\"12 months\"},\n",
        "                  10025 : {\"name\":\"boost\",\"price\":302,\"quantity\":45,\"discount\":\"14%\" ,\"expirydate\":\"12 months\"},\n",
        "                  10026 : {\"name\":\"Amul Kaju Katri\",\"price\":175,\"quantity\":10,\"discount\":\"10%\" ,\"expirydate\":\"3 months\"},\n",
        "                  10027 : {\"name\":\"MTR Rava Idli\",\"price\":143,\"quantity\":75,\"discount\":\"33%\" ,\"expirydate\":\"12 months\"},\n",
        "                  10028 : {\"name\":\"Aashirvaad Atta\",\"price\":246,\"quantity\":34,\"discount\":\"21%\" ,\"expirydate\":\"3 months\"},\n",
        "                  10029 : {\"name\":\"Saffola Honey\",\"price\":280,\"quantity\":15,\"discount\":\"41%\" ,\"expirydate\":\"5 months\"},\n",
        "                  10030 : {\"name\":\"Telugu Pickle\",\"price\":10,\"quantity\":16,\"discount\":\"0%\" ,\"expirydate\":\"12months\"},}"
      ],
      "execution_count": 1,
      "outputs": []
    },
    {
      "cell_type": "code",
      "metadata": {
        "colab": {
          "base_uri": "https://localhost:8080/"
        },
        "id": "lyg5kbMCU3-4",
        "outputId": "ec53ea32-92cf-4e1d-99dd-940bdf979fea"
      },
      "source": [
        "products_list.keys( )"
      ],
      "execution_count": 2,
      "outputs": [
        {
          "output_type": "execute_result",
          "data": {
            "text/plain": [
              "dict_keys([10001, 10002, 10003, 10004, 10005, 10006, 10007, 10008, 10009, 10010, 10011, 10012, 10013, 10014, 10015, 10016, 10017, 10018, 10019, 10020, 10021, 10022, 10023, 10024, 10025, 10026, 10027, 10028, 10029, 10030])"
            ]
          },
          "metadata": {},
          "execution_count": 2
        }
      ]
    },
    {
      "cell_type": "code",
      "metadata": {
        "colab": {
          "base_uri": "https://localhost:8080/"
        },
        "id": "7fbYJW9xWaqe",
        "outputId": "8fd1c893-346d-4825-d74f-bda16bba8150"
      },
      "source": [
        "products_list.values( )"
      ],
      "execution_count": 3,
      "outputs": [
        {
          "output_type": "execute_result",
          "data": {
            "text/plain": [
              "dict_values([{'name': 'lays', 'price': 20, 'quantity': 10, 'discount': '5%', 'expirydate': '2-3weeks'}, {'name': 'thumbup', 'price': 80, 'quantity': 19, 'discount': '15%', 'expirydate': '3 months'}, {'name': 'diarymilk', 'price': 100, 'quantity': 12, 'discount': '10%', 'expirydate': '9months'}, {'name': 'coco-cola', 'price': 70, 'quantity': 10, 'discount': '56%', 'expirydate': '6-9 months'}, {'name': 'spirit', 'price': 65, 'quantity': 17, 'discount': '10%', 'expirydate': '6 months'}, {'name': 'pepsi', 'price': 150, 'quantity': 18, 'discount': '5%', 'expirydate': '6-9 months'}, {'name': 'parle-G', 'price': 70, 'quantity': 13, 'discount': '5%', 'expirydate': '6 months'}, {'name': 'motherdiary', 'price': 58, 'quantity': 14, 'discount': '20%', 'expirydate': '6 months'}, {'name': 'kitkat', 'price': 20, 'quantity': 19, 'discount': '15%', 'expirydate': '10 months'}, {'name': 'perk', 'price': 59, 'quantity': 11, 'discount': '10%', 'expirydate': '9 months'}, {'name': 'snickers', 'price': 50, 'quantity': 12, 'discount': '20%', 'expirydate': '12 months'}, {'name': 'cadbury 5star', 'price': 17, 'quantity': 60, 'discount': '15%', 'expirydate': '270 days'}, {'name': 'milkybar', 'price': 45, 'quantity': 40, 'discount': '0%', 'expirydate': '11 months'}, {'name': 'galaxy', 'price': 50, 'quantity': 80, 'discount': '15%', 'expirydate': '4 months'}, {'name': 'kurkure', 'price': 20, 'quantity': 50, 'discount': '0%', 'expirydate': '18-24 months'}, {'name': 'bingo', 'price': 18, 'quantity': 8, 'discount': '20%', 'expirydate': '4 months'}, {'name': 'maggi', 'price': 43, 'quantity': 4, 'discount': '10%', 'expirydate': '9 months'}, {'name': 'Sunfeast moms magic', 'price': 91, 'quantity': 24, 'discount': '24%', 'expirydate': '6 months'}, {'name': 'little hearts', 'price': 20, 'quantity': 18, 'discount': '20%', 'expirydate': '6 months'}, {'name': 'Gems', 'price': 10, 'quantity': 13, 'discount': '0%', 'expirydate': '12 months'}, {'name': \"Kwality Wall's\", 'price': 78, 'quantity': 10, 'discount': '5%', 'expirydate': '365days'}, {'name': 'kissan jam', 'price': 169, 'quantity': 30, 'discount': '21%', 'expirydate': '12 months'}, {'name': 'amul butter', 'price': 92, 'quantity': 40, 'discount': '10%', 'expirydate': '12 months'}, {'name': 'bourn vita', 'price': 264, 'quantity': 80, 'discount': '25%', 'expirydate': '12 months'}, {'name': 'boost', 'price': 302, 'quantity': 45, 'discount': '14%', 'expirydate': '12 months'}, {'name': 'Amul Kaju Katri', 'price': 175, 'quantity': 10, 'discount': '10%', 'expirydate': '3 months'}, {'name': 'MTR Rava Idli', 'price': 143, 'quantity': 75, 'discount': '33%', 'expirydate': '12 months'}, {'name': 'Aashirvaad Atta', 'price': 246, 'quantity': 34, 'discount': '21%', 'expirydate': '3 months'}, {'name': 'Saffola Honey', 'price': 280, 'quantity': 15, 'discount': '41%', 'expirydate': '5 months'}, {'name': 'Telugu Pickle', 'price': 10, 'quantity': 16, 'discount': '0%', 'expirydate': '12months'}])"
            ]
          },
          "metadata": {},
          "execution_count": 3
        }
      ]
    },
    {
      "cell_type": "code",
      "metadata": {
        "id": "LshWgHmhbch4",
        "colab": {
          "base_uri": "https://localhost:8080/"
        },
        "outputId": "5a252288-39eb-47c4-fc81-a8f9ed4dac1b"
      },
      "source": [
        "len(products_list)"
      ],
      "execution_count": 4,
      "outputs": [
        {
          "output_type": "execute_result",
          "data": {
            "text/plain": [
              "30"
            ]
          },
          "metadata": {},
          "execution_count": 4
        }
      ]
    },
    {
      "cell_type": "code",
      "metadata": {
        "colab": {
          "base_uri": "https://localhost:8080/"
        },
        "id": "4oOYSNrUSeMj",
        "outputId": "de571558-2012-4aea-b4f4-d5b2c6e4ed26"
      },
      "source": [
        "prod_id=10019\n",
        "print(products_list[prod_id]['name'])\n",
        "print(products_list[prod_id]['price'])\n",
        "print(products_list[prod_id]['quantity'])\n",
        "print(products_list[prod_id]['discount'])\n",
        "print(products_list[prod_id]['expirydate'])"
      ],
      "execution_count": 5,
      "outputs": [
        {
          "output_type": "stream",
          "name": "stdout",
          "text": [
            "little hearts\n",
            "20\n",
            "18\n",
            "20%\n",
            "6 months\n"
          ]
        }
      ]
    },
    {
      "cell_type": "markdown",
      "metadata": {
        "id": "Lxt1641hcwrZ"
      },
      "source": [
        "###***JSON BASED  IMS***\n",
        "\n"
      ]
    },
    {
      "cell_type": "code",
      "metadata": {
        "id": "Kx4e0tkDdBXW"
      },
      "source": [
        "import json"
      ],
      "execution_count": 6,
      "outputs": []
    },
    {
      "cell_type": "code",
      "metadata": {
        "id": "vKOWwMJDdbPp"
      },
      "source": [
        "js = json.dumps(products_list)"
      ],
      "execution_count": 7,
      "outputs": []
    },
    {
      "cell_type": "code",
      "metadata": {
        "id": "V0ZDf27ZdbTZ",
        "colab": {
          "base_uri": "https://localhost:8080/",
          "height": 137
        },
        "outputId": "38f0a77b-68bf-4064-bc72-14c54a398741"
      },
      "source": [
        "js"
      ],
      "execution_count": 8,
      "outputs": [
        {
          "output_type": "execute_result",
          "data": {
            "application/vnd.google.colaboratory.intrinsic+json": {
              "type": "string"
            },
            "text/plain": [
              "'{\"10001\": {\"name\": \"lays\", \"price\": 20, \"quantity\": 10, \"discount\": \"5%\", \"expirydate\": \"2-3weeks\"}, \"10002\": {\"name\": \"thumbup\", \"price\": 80, \"quantity\": 19, \"discount\": \"15%\", \"expirydate\": \"3 months\"}, \"10003\": {\"name\": \"diarymilk\", \"price\": 100, \"quantity\": 12, \"discount\": \"10%\", \"expirydate\": \"9months\"}, \"10004\": {\"name\": \"coco-cola\", \"price\": 70, \"quantity\": 10, \"discount\": \"56%\", \"expirydate\": \"6-9 months\"}, \"10005\": {\"name\": \"spirit\", \"price\": 65, \"quantity\": 17, \"discount\": \"10%\", \"expirydate\": \"6 months\"}, \"10006\": {\"name\": \"pepsi\", \"price\": 150, \"quantity\": 18, \"discount\": \"5%\", \"expirydate\": \"6-9 months\"}, \"10007\": {\"name\": \"parle-G\", \"price\": 70, \"quantity\": 13, \"discount\": \"5%\", \"expirydate\": \"6 months\"}, \"10008\": {\"name\": \"motherdiary\", \"price\": 58, \"quantity\": 14, \"discount\": \"20%\", \"expirydate\": \"6 months\"}, \"10009\": {\"name\": \"kitkat\", \"price\": 20, \"quantity\": 19, \"discount\": \"15%\", \"expirydate\": \"10 months\"}, \"10010\": {\"name\": \"perk\", \"price\": 59, \"quantity\": 11, \"discount\": \"10%\", \"expirydate\": \"9 months\"}, \"10011\": {\"name\": \"snickers\", \"price\": 50, \"quantity\": 12, \"discount\": \"20%\", \"expirydate\": \"12 months\"}, \"10012\": {\"name\": \"cadbury 5star\", \"price\": 17, \"quantity\": 60, \"discount\": \"15%\", \"expirydate\": \"270 days\"}, \"10013\": {\"name\": \"milkybar\", \"price\": 45, \"quantity\": 40, \"discount\": \"0%\", \"expirydate\": \"11 months\"}, \"10014\": {\"name\": \"galaxy\", \"price\": 50, \"quantity\": 80, \"discount\": \"15%\", \"expirydate\": \"4 months\"}, \"10015\": {\"name\": \"kurkure\", \"price\": 20, \"quantity\": 50, \"discount\": \"0%\", \"expirydate\": \"18-24 months\"}, \"10016\": {\"name\": \"bingo\", \"price\": 18, \"quantity\": 8, \"discount\": \"20%\", \"expirydate\": \"4 months\"}, \"10017\": {\"name\": \"maggi\", \"price\": 43, \"quantity\": 4, \"discount\": \"10%\", \"expirydate\": \"9 months\"}, \"10018\": {\"name\": \"Sunfeast moms magic\", \"price\": 91, \"quantity\": 24, \"discount\": \"24%\", \"expirydate\": \"6 months\"}, \"10019\": {\"name\": \"little hearts\", \"price\": 20, \"quantity\": 18, \"discount\": \"20%\", \"expirydate\": \"6 months\"}, \"10020\": {\"name\": \"Gems\", \"price\": 10, \"quantity\": 13, \"discount\": \"0%\", \"expirydate\": \"12 months\"}, \"10021\": {\"name\": \"Kwality Wall\\'s\", \"price\": 78, \"quantity\": 10, \"discount\": \"5%\", \"expirydate\": \"365days\"}, \"10022\": {\"name\": \"kissan jam\", \"price\": 169, \"quantity\": 30, \"discount\": \"21%\", \"expirydate\": \"12 months\"}, \"10023\": {\"name\": \"amul butter\", \"price\": 92, \"quantity\": 40, \"discount\": \"10%\", \"expirydate\": \"12 months\"}, \"10024\": {\"name\": \"bourn vita\", \"price\": 264, \"quantity\": 80, \"discount\": \"25%\", \"expirydate\": \"12 months\"}, \"10025\": {\"name\": \"boost\", \"price\": 302, \"quantity\": 45, \"discount\": \"14%\", \"expirydate\": \"12 months\"}, \"10026\": {\"name\": \"Amul Kaju Katri\", \"price\": 175, \"quantity\": 10, \"discount\": \"10%\", \"expirydate\": \"3 months\"}, \"10027\": {\"name\": \"MTR Rava Idli\", \"price\": 143, \"quantity\": 75, \"discount\": \"33%\", \"expirydate\": \"12 months\"}, \"10028\": {\"name\": \"Aashirvaad Atta\", \"price\": 246, \"quantity\": 34, \"discount\": \"21%\", \"expirydate\": \"3 months\"}, \"10029\": {\"name\": \"Saffola Honey\", \"price\": 280, \"quantity\": 15, \"discount\": \"41%\", \"expirydate\": \"5 months\"}, \"10030\": {\"name\": \"Telugu Pickle\", \"price\": 10, \"quantity\": 16, \"discount\": \"0%\", \"expirydate\": \"12months\"}}'"
            ]
          },
          "metadata": {},
          "execution_count": 8
        }
      ]
    },
    {
      "cell_type": "code",
      "metadata": {
        "id": "WGl6CipTdbU5",
        "colab": {
          "base_uri": "https://localhost:8080/"
        },
        "outputId": "eb5ceeae-3c52-44cf-9e00-91209e002104"
      },
      "source": [
        "products_list"
      ],
      "execution_count": 9,
      "outputs": [
        {
          "output_type": "execute_result",
          "data": {
            "text/plain": [
              "{10001: {'discount': '5%',\n",
              "  'expirydate': '2-3weeks',\n",
              "  'name': 'lays',\n",
              "  'price': 20,\n",
              "  'quantity': 10},\n",
              " 10002: {'discount': '15%',\n",
              "  'expirydate': '3 months',\n",
              "  'name': 'thumbup',\n",
              "  'price': 80,\n",
              "  'quantity': 19},\n",
              " 10003: {'discount': '10%',\n",
              "  'expirydate': '9months',\n",
              "  'name': 'diarymilk',\n",
              "  'price': 100,\n",
              "  'quantity': 12},\n",
              " 10004: {'discount': '56%',\n",
              "  'expirydate': '6-9 months',\n",
              "  'name': 'coco-cola',\n",
              "  'price': 70,\n",
              "  'quantity': 10},\n",
              " 10005: {'discount': '10%',\n",
              "  'expirydate': '6 months',\n",
              "  'name': 'spirit',\n",
              "  'price': 65,\n",
              "  'quantity': 17},\n",
              " 10006: {'discount': '5%',\n",
              "  'expirydate': '6-9 months',\n",
              "  'name': 'pepsi',\n",
              "  'price': 150,\n",
              "  'quantity': 18},\n",
              " 10007: {'discount': '5%',\n",
              "  'expirydate': '6 months',\n",
              "  'name': 'parle-G',\n",
              "  'price': 70,\n",
              "  'quantity': 13},\n",
              " 10008: {'discount': '20%',\n",
              "  'expirydate': '6 months',\n",
              "  'name': 'motherdiary',\n",
              "  'price': 58,\n",
              "  'quantity': 14},\n",
              " 10009: {'discount': '15%',\n",
              "  'expirydate': '10 months',\n",
              "  'name': 'kitkat',\n",
              "  'price': 20,\n",
              "  'quantity': 19},\n",
              " 10010: {'discount': '10%',\n",
              "  'expirydate': '9 months',\n",
              "  'name': 'perk',\n",
              "  'price': 59,\n",
              "  'quantity': 11},\n",
              " 10011: {'discount': '20%',\n",
              "  'expirydate': '12 months',\n",
              "  'name': 'snickers',\n",
              "  'price': 50,\n",
              "  'quantity': 12},\n",
              " 10012: {'discount': '15%',\n",
              "  'expirydate': '270 days',\n",
              "  'name': 'cadbury 5star',\n",
              "  'price': 17,\n",
              "  'quantity': 60},\n",
              " 10013: {'discount': '0%',\n",
              "  'expirydate': '11 months',\n",
              "  'name': 'milkybar',\n",
              "  'price': 45,\n",
              "  'quantity': 40},\n",
              " 10014: {'discount': '15%',\n",
              "  'expirydate': '4 months',\n",
              "  'name': 'galaxy',\n",
              "  'price': 50,\n",
              "  'quantity': 80},\n",
              " 10015: {'discount': '0%',\n",
              "  'expirydate': '18-24 months',\n",
              "  'name': 'kurkure',\n",
              "  'price': 20,\n",
              "  'quantity': 50},\n",
              " 10016: {'discount': '20%',\n",
              "  'expirydate': '4 months',\n",
              "  'name': 'bingo',\n",
              "  'price': 18,\n",
              "  'quantity': 8},\n",
              " 10017: {'discount': '10%',\n",
              "  'expirydate': '9 months',\n",
              "  'name': 'maggi',\n",
              "  'price': 43,\n",
              "  'quantity': 4},\n",
              " 10018: {'discount': '24%',\n",
              "  'expirydate': '6 months',\n",
              "  'name': 'Sunfeast moms magic',\n",
              "  'price': 91,\n",
              "  'quantity': 24},\n",
              " 10019: {'discount': '20%',\n",
              "  'expirydate': '6 months',\n",
              "  'name': 'little hearts',\n",
              "  'price': 20,\n",
              "  'quantity': 18},\n",
              " 10020: {'discount': '0%',\n",
              "  'expirydate': '12 months',\n",
              "  'name': 'Gems',\n",
              "  'price': 10,\n",
              "  'quantity': 13},\n",
              " 10021: {'discount': '5%',\n",
              "  'expirydate': '365days',\n",
              "  'name': \"Kwality Wall's\",\n",
              "  'price': 78,\n",
              "  'quantity': 10},\n",
              " 10022: {'discount': '21%',\n",
              "  'expirydate': '12 months',\n",
              "  'name': 'kissan jam',\n",
              "  'price': 169,\n",
              "  'quantity': 30},\n",
              " 10023: {'discount': '10%',\n",
              "  'expirydate': '12 months',\n",
              "  'name': 'amul butter',\n",
              "  'price': 92,\n",
              "  'quantity': 40},\n",
              " 10024: {'discount': '25%',\n",
              "  'expirydate': '12 months',\n",
              "  'name': 'bourn vita',\n",
              "  'price': 264,\n",
              "  'quantity': 80},\n",
              " 10025: {'discount': '14%',\n",
              "  'expirydate': '12 months',\n",
              "  'name': 'boost',\n",
              "  'price': 302,\n",
              "  'quantity': 45},\n",
              " 10026: {'discount': '10%',\n",
              "  'expirydate': '3 months',\n",
              "  'name': 'Amul Kaju Katri',\n",
              "  'price': 175,\n",
              "  'quantity': 10},\n",
              " 10027: {'discount': '33%',\n",
              "  'expirydate': '12 months',\n",
              "  'name': 'MTR Rava Idli',\n",
              "  'price': 143,\n",
              "  'quantity': 75},\n",
              " 10028: {'discount': '21%',\n",
              "  'expirydate': '3 months',\n",
              "  'name': 'Aashirvaad Atta',\n",
              "  'price': 246,\n",
              "  'quantity': 34},\n",
              " 10029: {'discount': '41%',\n",
              "  'expirydate': '5 months',\n",
              "  'name': 'Saffola Honey',\n",
              "  'price': 280,\n",
              "  'quantity': 15},\n",
              " 10030: {'discount': '0%',\n",
              "  'expirydate': '12months',\n",
              "  'name': 'Telugu Pickle',\n",
              "  'price': 10,\n",
              "  'quantity': 16}}"
            ]
          },
          "metadata": {},
          "execution_count": 9
        }
      ]
    },
    {
      "cell_type": "code",
      "metadata": {
        "id": "_e7VbLFXfAh7",
        "colab": {
          "base_uri": "https://localhost:8080/"
        },
        "outputId": "2c4a7d83-feb9-4e81-ceb9-a89ecc6b7547"
      },
      "source": [
        "type(js)"
      ],
      "execution_count": 10,
      "outputs": [
        {
          "output_type": "execute_result",
          "data": {
            "text/plain": [
              "str"
            ]
          },
          "metadata": {},
          "execution_count": 10
        }
      ]
    },
    {
      "cell_type": "code",
      "metadata": {
        "id": "o0vsGmA9fAl4",
        "colab": {
          "base_uri": "https://localhost:8080/"
        },
        "outputId": "611c542b-3c9d-440b-9067-a24a96691605"
      },
      "source": [
        "type(products_list)"
      ],
      "execution_count": 11,
      "outputs": [
        {
          "output_type": "execute_result",
          "data": {
            "text/plain": [
              "dict"
            ]
          },
          "metadata": {},
          "execution_count": 11
        }
      ]
    },
    {
      "cell_type": "code",
      "metadata": {
        "id": "QQw9YfkCfAnu"
      },
      "source": [
        "fd=open(\"product.json\",'w')\n",
        "\n",
        "fd.write(js)\n",
        "\n",
        "fd.close()"
      ],
      "execution_count": 12,
      "outputs": []
    },
    {
      "cell_type": "code",
      "metadata": {
        "id": "DnCtoy3Ei8ip"
      },
      "source": [
        "fd=open(\"product.json\",'r')\n",
        "\n",
        "txt=fd.read()\n",
        "\n",
        "fd.close()"
      ],
      "execution_count": 13,
      "outputs": []
    },
    {
      "cell_type": "code",
      "metadata": {
        "id": "n2ZnojbZj-KQ",
        "colab": {
          "base_uri": "https://localhost:8080/",
          "height": 137
        },
        "outputId": "44614ecc-0dd1-436d-f029-48937d0b4f4f"
      },
      "source": [
        "txt"
      ],
      "execution_count": 14,
      "outputs": [
        {
          "output_type": "execute_result",
          "data": {
            "application/vnd.google.colaboratory.intrinsic+json": {
              "type": "string"
            },
            "text/plain": [
              "'{\"10001\": {\"name\": \"lays\", \"price\": 20, \"quantity\": 10, \"discount\": \"5%\", \"expirydate\": \"2-3weeks\"}, \"10002\": {\"name\": \"thumbup\", \"price\": 80, \"quantity\": 19, \"discount\": \"15%\", \"expirydate\": \"3 months\"}, \"10003\": {\"name\": \"diarymilk\", \"price\": 100, \"quantity\": 12, \"discount\": \"10%\", \"expirydate\": \"9months\"}, \"10004\": {\"name\": \"coco-cola\", \"price\": 70, \"quantity\": 10, \"discount\": \"56%\", \"expirydate\": \"6-9 months\"}, \"10005\": {\"name\": \"spirit\", \"price\": 65, \"quantity\": 17, \"discount\": \"10%\", \"expirydate\": \"6 months\"}, \"10006\": {\"name\": \"pepsi\", \"price\": 150, \"quantity\": 18, \"discount\": \"5%\", \"expirydate\": \"6-9 months\"}, \"10007\": {\"name\": \"parle-G\", \"price\": 70, \"quantity\": 13, \"discount\": \"5%\", \"expirydate\": \"6 months\"}, \"10008\": {\"name\": \"motherdiary\", \"price\": 58, \"quantity\": 14, \"discount\": \"20%\", \"expirydate\": \"6 months\"}, \"10009\": {\"name\": \"kitkat\", \"price\": 20, \"quantity\": 19, \"discount\": \"15%\", \"expirydate\": \"10 months\"}, \"10010\": {\"name\": \"perk\", \"price\": 59, \"quantity\": 11, \"discount\": \"10%\", \"expirydate\": \"9 months\"}, \"10011\": {\"name\": \"snickers\", \"price\": 50, \"quantity\": 12, \"discount\": \"20%\", \"expirydate\": \"12 months\"}, \"10012\": {\"name\": \"cadbury 5star\", \"price\": 17, \"quantity\": 60, \"discount\": \"15%\", \"expirydate\": \"270 days\"}, \"10013\": {\"name\": \"milkybar\", \"price\": 45, \"quantity\": 40, \"discount\": \"0%\", \"expirydate\": \"11 months\"}, \"10014\": {\"name\": \"galaxy\", \"price\": 50, \"quantity\": 80, \"discount\": \"15%\", \"expirydate\": \"4 months\"}, \"10015\": {\"name\": \"kurkure\", \"price\": 20, \"quantity\": 50, \"discount\": \"0%\", \"expirydate\": \"18-24 months\"}, \"10016\": {\"name\": \"bingo\", \"price\": 18, \"quantity\": 8, \"discount\": \"20%\", \"expirydate\": \"4 months\"}, \"10017\": {\"name\": \"maggi\", \"price\": 43, \"quantity\": 4, \"discount\": \"10%\", \"expirydate\": \"9 months\"}, \"10018\": {\"name\": \"Sunfeast moms magic\", \"price\": 91, \"quantity\": 24, \"discount\": \"24%\", \"expirydate\": \"6 months\"}, \"10019\": {\"name\": \"little hearts\", \"price\": 20, \"quantity\": 18, \"discount\": \"20%\", \"expirydate\": \"6 months\"}, \"10020\": {\"name\": \"Gems\", \"price\": 10, \"quantity\": 13, \"discount\": \"0%\", \"expirydate\": \"12 months\"}, \"10021\": {\"name\": \"Kwality Wall\\'s\", \"price\": 78, \"quantity\": 10, \"discount\": \"5%\", \"expirydate\": \"365days\"}, \"10022\": {\"name\": \"kissan jam\", \"price\": 169, \"quantity\": 30, \"discount\": \"21%\", \"expirydate\": \"12 months\"}, \"10023\": {\"name\": \"amul butter\", \"price\": 92, \"quantity\": 40, \"discount\": \"10%\", \"expirydate\": \"12 months\"}, \"10024\": {\"name\": \"bourn vita\", \"price\": 264, \"quantity\": 80, \"discount\": \"25%\", \"expirydate\": \"12 months\"}, \"10025\": {\"name\": \"boost\", \"price\": 302, \"quantity\": 45, \"discount\": \"14%\", \"expirydate\": \"12 months\"}, \"10026\": {\"name\": \"Amul Kaju Katri\", \"price\": 175, \"quantity\": 10, \"discount\": \"10%\", \"expirydate\": \"3 months\"}, \"10027\": {\"name\": \"MTR Rava Idli\", \"price\": 143, \"quantity\": 75, \"discount\": \"33%\", \"expirydate\": \"12 months\"}, \"10028\": {\"name\": \"Aashirvaad Atta\", \"price\": 246, \"quantity\": 34, \"discount\": \"21%\", \"expirydate\": \"3 months\"}, \"10029\": {\"name\": \"Saffola Honey\", \"price\": 280, \"quantity\": 15, \"discount\": \"41%\", \"expirydate\": \"5 months\"}, \"10030\": {\"name\": \"Telugu Pickle\", \"price\": 10, \"quantity\": 16, \"discount\": \"0%\", \"expirydate\": \"12months\"}}'"
            ]
          },
          "metadata": {},
          "execution_count": 14
        }
      ]
    },
    {
      "cell_type": "code",
      "metadata": {
        "id": "9TsHOlIajreG"
      },
      "source": [
        "product=json.loads(txt)"
      ],
      "execution_count": 15,
      "outputs": []
    },
    {
      "cell_type": "code",
      "metadata": {
        "id": "Wq97ChhJjrpq",
        "colab": {
          "base_uri": "https://localhost:8080/"
        },
        "outputId": "9160fecc-230f-4553-f61c-8fef12d2baca"
      },
      "source": [
        "product"
      ],
      "execution_count": 16,
      "outputs": [
        {
          "output_type": "execute_result",
          "data": {
            "text/plain": [
              "{'10001': {'discount': '5%',\n",
              "  'expirydate': '2-3weeks',\n",
              "  'name': 'lays',\n",
              "  'price': 20,\n",
              "  'quantity': 10},\n",
              " '10002': {'discount': '15%',\n",
              "  'expirydate': '3 months',\n",
              "  'name': 'thumbup',\n",
              "  'price': 80,\n",
              "  'quantity': 19},\n",
              " '10003': {'discount': '10%',\n",
              "  'expirydate': '9months',\n",
              "  'name': 'diarymilk',\n",
              "  'price': 100,\n",
              "  'quantity': 12},\n",
              " '10004': {'discount': '56%',\n",
              "  'expirydate': '6-9 months',\n",
              "  'name': 'coco-cola',\n",
              "  'price': 70,\n",
              "  'quantity': 10},\n",
              " '10005': {'discount': '10%',\n",
              "  'expirydate': '6 months',\n",
              "  'name': 'spirit',\n",
              "  'price': 65,\n",
              "  'quantity': 17},\n",
              " '10006': {'discount': '5%',\n",
              "  'expirydate': '6-9 months',\n",
              "  'name': 'pepsi',\n",
              "  'price': 150,\n",
              "  'quantity': 18},\n",
              " '10007': {'discount': '5%',\n",
              "  'expirydate': '6 months',\n",
              "  'name': 'parle-G',\n",
              "  'price': 70,\n",
              "  'quantity': 13},\n",
              " '10008': {'discount': '20%',\n",
              "  'expirydate': '6 months',\n",
              "  'name': 'motherdiary',\n",
              "  'price': 58,\n",
              "  'quantity': 14},\n",
              " '10009': {'discount': '15%',\n",
              "  'expirydate': '10 months',\n",
              "  'name': 'kitkat',\n",
              "  'price': 20,\n",
              "  'quantity': 19},\n",
              " '10010': {'discount': '10%',\n",
              "  'expirydate': '9 months',\n",
              "  'name': 'perk',\n",
              "  'price': 59,\n",
              "  'quantity': 11},\n",
              " '10011': {'discount': '20%',\n",
              "  'expirydate': '12 months',\n",
              "  'name': 'snickers',\n",
              "  'price': 50,\n",
              "  'quantity': 12},\n",
              " '10012': {'discount': '15%',\n",
              "  'expirydate': '270 days',\n",
              "  'name': 'cadbury 5star',\n",
              "  'price': 17,\n",
              "  'quantity': 60},\n",
              " '10013': {'discount': '0%',\n",
              "  'expirydate': '11 months',\n",
              "  'name': 'milkybar',\n",
              "  'price': 45,\n",
              "  'quantity': 40},\n",
              " '10014': {'discount': '15%',\n",
              "  'expirydate': '4 months',\n",
              "  'name': 'galaxy',\n",
              "  'price': 50,\n",
              "  'quantity': 80},\n",
              " '10015': {'discount': '0%',\n",
              "  'expirydate': '18-24 months',\n",
              "  'name': 'kurkure',\n",
              "  'price': 20,\n",
              "  'quantity': 50},\n",
              " '10016': {'discount': '20%',\n",
              "  'expirydate': '4 months',\n",
              "  'name': 'bingo',\n",
              "  'price': 18,\n",
              "  'quantity': 8},\n",
              " '10017': {'discount': '10%',\n",
              "  'expirydate': '9 months',\n",
              "  'name': 'maggi',\n",
              "  'price': 43,\n",
              "  'quantity': 4},\n",
              " '10018': {'discount': '24%',\n",
              "  'expirydate': '6 months',\n",
              "  'name': 'Sunfeast moms magic',\n",
              "  'price': 91,\n",
              "  'quantity': 24},\n",
              " '10019': {'discount': '20%',\n",
              "  'expirydate': '6 months',\n",
              "  'name': 'little hearts',\n",
              "  'price': 20,\n",
              "  'quantity': 18},\n",
              " '10020': {'discount': '0%',\n",
              "  'expirydate': '12 months',\n",
              "  'name': 'Gems',\n",
              "  'price': 10,\n",
              "  'quantity': 13},\n",
              " '10021': {'discount': '5%',\n",
              "  'expirydate': '365days',\n",
              "  'name': \"Kwality Wall's\",\n",
              "  'price': 78,\n",
              "  'quantity': 10},\n",
              " '10022': {'discount': '21%',\n",
              "  'expirydate': '12 months',\n",
              "  'name': 'kissan jam',\n",
              "  'price': 169,\n",
              "  'quantity': 30},\n",
              " '10023': {'discount': '10%',\n",
              "  'expirydate': '12 months',\n",
              "  'name': 'amul butter',\n",
              "  'price': 92,\n",
              "  'quantity': 40},\n",
              " '10024': {'discount': '25%',\n",
              "  'expirydate': '12 months',\n",
              "  'name': 'bourn vita',\n",
              "  'price': 264,\n",
              "  'quantity': 80},\n",
              " '10025': {'discount': '14%',\n",
              "  'expirydate': '12 months',\n",
              "  'name': 'boost',\n",
              "  'price': 302,\n",
              "  'quantity': 45},\n",
              " '10026': {'discount': '10%',\n",
              "  'expirydate': '3 months',\n",
              "  'name': 'Amul Kaju Katri',\n",
              "  'price': 175,\n",
              "  'quantity': 10},\n",
              " '10027': {'discount': '33%',\n",
              "  'expirydate': '12 months',\n",
              "  'name': 'MTR Rava Idli',\n",
              "  'price': 143,\n",
              "  'quantity': 75},\n",
              " '10028': {'discount': '21%',\n",
              "  'expirydate': '3 months',\n",
              "  'name': 'Aashirvaad Atta',\n",
              "  'price': 246,\n",
              "  'quantity': 34},\n",
              " '10029': {'discount': '41%',\n",
              "  'expirydate': '5 months',\n",
              "  'name': 'Saffola Honey',\n",
              "  'price': 280,\n",
              "  'quantity': 15},\n",
              " '10030': {'discount': '0%',\n",
              "  'expirydate': '12months',\n",
              "  'name': 'Telugu Pickle',\n",
              "  'price': 10,\n",
              "  'quantity': 16}}"
            ]
          },
          "metadata": {},
          "execution_count": 16
        }
      ]
    },
    {
      "cell_type": "code",
      "metadata": {
        "id": "OpfmKLxOj-YR",
        "colab": {
          "base_uri": "https://localhost:8080/"
        },
        "outputId": "c3e163fb-97bb-49e8-91c4-28e34557b42e"
      },
      "source": [
        "product['10015']"
      ],
      "execution_count": 17,
      "outputs": [
        {
          "output_type": "execute_result",
          "data": {
            "text/plain": [
              "{'discount': '0%',\n",
              " 'expirydate': '18-24 months',\n",
              " 'name': 'kurkure',\n",
              " 'price': 20,\n",
              " 'quantity': 50}"
            ]
          },
          "metadata": {},
          "execution_count": 17
        }
      ]
    },
    {
      "cell_type": "code",
      "metadata": {
        "id": "FUAR7YOunUar",
        "colab": {
          "base_uri": "https://localhost:8080/"
        },
        "outputId": "0bdf5a0f-788f-4a3a-8f58-263032309484"
      },
      "source": [
        "product.values()"
      ],
      "execution_count": 18,
      "outputs": [
        {
          "output_type": "execute_result",
          "data": {
            "text/plain": [
              "dict_values([{'name': 'lays', 'price': 20, 'quantity': 10, 'discount': '5%', 'expirydate': '2-3weeks'}, {'name': 'thumbup', 'price': 80, 'quantity': 19, 'discount': '15%', 'expirydate': '3 months'}, {'name': 'diarymilk', 'price': 100, 'quantity': 12, 'discount': '10%', 'expirydate': '9months'}, {'name': 'coco-cola', 'price': 70, 'quantity': 10, 'discount': '56%', 'expirydate': '6-9 months'}, {'name': 'spirit', 'price': 65, 'quantity': 17, 'discount': '10%', 'expirydate': '6 months'}, {'name': 'pepsi', 'price': 150, 'quantity': 18, 'discount': '5%', 'expirydate': '6-9 months'}, {'name': 'parle-G', 'price': 70, 'quantity': 13, 'discount': '5%', 'expirydate': '6 months'}, {'name': 'motherdiary', 'price': 58, 'quantity': 14, 'discount': '20%', 'expirydate': '6 months'}, {'name': 'kitkat', 'price': 20, 'quantity': 19, 'discount': '15%', 'expirydate': '10 months'}, {'name': 'perk', 'price': 59, 'quantity': 11, 'discount': '10%', 'expirydate': '9 months'}, {'name': 'snickers', 'price': 50, 'quantity': 12, 'discount': '20%', 'expirydate': '12 months'}, {'name': 'cadbury 5star', 'price': 17, 'quantity': 60, 'discount': '15%', 'expirydate': '270 days'}, {'name': 'milkybar', 'price': 45, 'quantity': 40, 'discount': '0%', 'expirydate': '11 months'}, {'name': 'galaxy', 'price': 50, 'quantity': 80, 'discount': '15%', 'expirydate': '4 months'}, {'name': 'kurkure', 'price': 20, 'quantity': 50, 'discount': '0%', 'expirydate': '18-24 months'}, {'name': 'bingo', 'price': 18, 'quantity': 8, 'discount': '20%', 'expirydate': '4 months'}, {'name': 'maggi', 'price': 43, 'quantity': 4, 'discount': '10%', 'expirydate': '9 months'}, {'name': 'Sunfeast moms magic', 'price': 91, 'quantity': 24, 'discount': '24%', 'expirydate': '6 months'}, {'name': 'little hearts', 'price': 20, 'quantity': 18, 'discount': '20%', 'expirydate': '6 months'}, {'name': 'Gems', 'price': 10, 'quantity': 13, 'discount': '0%', 'expirydate': '12 months'}, {'name': \"Kwality Wall's\", 'price': 78, 'quantity': 10, 'discount': '5%', 'expirydate': '365days'}, {'name': 'kissan jam', 'price': 169, 'quantity': 30, 'discount': '21%', 'expirydate': '12 months'}, {'name': 'amul butter', 'price': 92, 'quantity': 40, 'discount': '10%', 'expirydate': '12 months'}, {'name': 'bourn vita', 'price': 264, 'quantity': 80, 'discount': '25%', 'expirydate': '12 months'}, {'name': 'boost', 'price': 302, 'quantity': 45, 'discount': '14%', 'expirydate': '12 months'}, {'name': 'Amul Kaju Katri', 'price': 175, 'quantity': 10, 'discount': '10%', 'expirydate': '3 months'}, {'name': 'MTR Rava Idli', 'price': 143, 'quantity': 75, 'discount': '33%', 'expirydate': '12 months'}, {'name': 'Aashirvaad Atta', 'price': 246, 'quantity': 34, 'discount': '21%', 'expirydate': '3 months'}, {'name': 'Saffola Honey', 'price': 280, 'quantity': 15, 'discount': '41%', 'expirydate': '5 months'}, {'name': 'Telugu Pickle', 'price': 10, 'quantity': 16, 'discount': '0%', 'expirydate': '12months'}])"
            ]
          },
          "metadata": {},
          "execution_count": 18
        }
      ]
    },
    {
      "cell_type": "code",
      "metadata": {
        "id": "Bh1Fb1S0nZOp",
        "colab": {
          "base_uri": "https://localhost:8080/"
        },
        "outputId": "637f8aad-6cb4-4b78-c76c-9f203f2e2b40"
      },
      "source": [
        "len(products_list)"
      ],
      "execution_count": 19,
      "outputs": [
        {
          "output_type": "execute_result",
          "data": {
            "text/plain": [
              "30"
            ]
          },
          "metadata": {},
          "execution_count": 19
        }
      ]
    }
  ]
}